{
 "cells": [
  {
   "cell_type": "code",
   "execution_count": 12,
   "id": "3544f355",
   "metadata": {},
   "outputs": [
    {
     "name": "stdout",
     "output_type": "stream",
     "text": [
      "3\n"
     ]
    }
   ],
   "source": [
    "import torch\n",
    "import os\n",
    "os.environ[\"CUDA_DEVICE_ORDER\"]=\"PCI_BUS_ID\"\n",
    "os.environ[\"CUDA_VISIBLE_DEVICES\"]=\"6,7,8\"\n",
    "print(torch.cuda.device_count())"
   ]
  },
  {
   "cell_type": "code",
   "execution_count": 11,
   "id": "e89b7172",
   "metadata": {},
   "outputs": [],
   "source": [
    "import json\n",
    "from datasets import load_dataset\n",
    "import itertools"
   ]
  },
  {
   "cell_type": "code",
   "execution_count": 3,
   "id": "7a1446e4",
   "metadata": {},
   "outputs": [],
   "source": [
    "with open(\"train_focus.json\", \"r\") as read_file:\n",
    "    train_data = json.load(read_file)\n",
    "with open(\"valid_focus.json\", \"r\") as read_file:\n",
    "    valid_data = json.load(read_file)\n",
    "    \n",
    "train_dataset = []\n",
    "for obj in train_data['data']:\n",
    "    train_dataset.append(obj['utterance'][-1]['dialogue' + str(len(obj['utterance']))])   \n",
    "    \n",
    "valid_dataset = []\n",
    "for obj in valid_data['data']:\n",
    "    valid_dataset.append(obj['utterance'][-1]['dialogue' + str(len(obj['utterance']))])\n",
    "    \n",
    "test_dataset = train_dataset[-len(valid_dataset) : ]\n",
    "train_dataset = train_dataset[ : -len(valid_dataset)]\n",
    "\n",
    "train_df = list(itertools.chain.from_iterable(train_dataset))\n",
    "test_df = list(itertools.chain.from_iterable(test_dataset))\n",
    "valid_df = list(itertools.chain.from_iterable(valid_dataset))"
   ]
  },
  {
   "cell_type": "code",
   "execution_count": 6,
   "id": "8708f163",
   "metadata": {},
   "outputs": [
    {
     "name": "stdout",
     "output_type": "stream",
     "text": [
      "Average: 11.267542454341557\n",
      "top_k = 11\n"
     ]
    }
   ],
   "source": [
    "average = sum(map(lambda x: len(x), train_dataset)) / len(train_dataset)\n",
    "print(f\"Average: {average}\")\n",
    "print(f\"top_k = {int(average)}\")"
   ]
  },
  {
   "cell_type": "code",
   "execution_count": 14,
   "id": "57debe12",
   "metadata": {},
   "outputs": [],
   "source": [
    "df = train_df + test_df + valid_df"
   ]
  },
  {
   "cell_type": "code",
   "execution_count": 15,
   "id": "2b670f35",
   "metadata": {},
   "outputs": [],
   "source": [
    "from sentence_transformers import SentenceTransformer\n",
    "import pandas as pd\n",
    "import numpy as np\n",
    "def sbert_encoder(df):\n",
    "    model = SentenceTransformer('sentence-transformers/all-distilroberta-v1')\n",
    "    model = model.to('cuda')\n",
    "    \n",
    "    def get_embedding(sentence):\n",
    "        return model.encode(sentence)\n",
    "\n",
    "    embeddings = list(map(get_embedding, df))\n",
    "    embeddings = np.array(embeddings)\n",
    "    np.savetxt(f\"distil_roberta_embeddings.txt\", embeddings)\n",
    "    return embeddings"
   ]
  },
  {
   "cell_type": "code",
   "execution_count": 16,
   "id": "4f2167aa",
   "metadata": {},
   "outputs": [],
   "source": [
    "embs = sbert_encoder(df)"
   ]
  },
  {
   "cell_type": "code",
   "execution_count": 17,
   "id": "9431dbde",
   "metadata": {},
   "outputs": [],
   "source": [
    "embs = np.loadtxt(f\"distil_roberta_embeddings.txt\")"
   ]
  },
  {
   "cell_type": "code",
   "execution_count": 18,
   "id": "1b243e30",
   "metadata": {},
   "outputs": [
    {
     "data": {
      "text/plain": [
       "(151942, 768)"
      ]
     },
     "execution_count": 18,
     "metadata": {},
     "output_type": "execute_result"
    }
   ],
   "source": [
    "embs.shape"
   ]
  },
  {
   "cell_type": "code",
   "execution_count": 19,
   "id": "081dc40d",
   "metadata": {},
   "outputs": [
    {
     "data": {
      "text/plain": [
       "array([[-0.02883341, -0.01815435,  0.01111846, ...,  0.01524358,\n",
       "         0.01135345,  0.03803908],\n",
       "       [-0.00880675, -0.0328324 , -0.00595096, ...,  0.04789126,\n",
       "         0.07005066,  0.01678892],\n",
       "       [-0.03496892,  0.01408572, -0.0159178 , ...,  0.04205874,\n",
       "         0.00938218, -0.00708636],\n",
       "       ...,\n",
       "       [-0.02731626, -0.0180053 ,  0.02140533, ...,  0.02867802,\n",
       "         0.05854803, -0.01566559],\n",
       "       [-0.00076037, -0.02560225,  0.01002467, ...,  0.03856468,\n",
       "         0.05161415,  0.03129318],\n",
       "       [-0.0329641 , -0.03726761, -0.00084354, ...,  0.04821602,\n",
       "        -0.00181708,  0.00724081]])"
      ]
     },
     "execution_count": 19,
     "metadata": {},
     "output_type": "execute_result"
    }
   ],
   "source": [
    "embs"
   ]
  },
  {
   "cell_type": "code",
   "execution_count": null,
   "id": "ffa68d1b",
   "metadata": {},
   "outputs": [],
   "source": []
  },
  {
   "cell_type": "code",
   "execution_count": null,
   "id": "d1a05a07",
   "metadata": {},
   "outputs": [],
   "source": []
  },
  {
   "cell_type": "code",
   "execution_count": 3,
   "id": "cfff3f90",
   "metadata": {},
   "outputs": [],
   "source": [
    "\n",
    "import json\n",
    "from datasets import load_dataset\n",
    "import itertools\n",
    "\n",
    "with open(\"/cephfs/home/ledneva/focus/utils/train_focus.json\", \"r\") as read_file:\n",
    "    train_data = json.load(read_file)\n",
    "with open(\"/cephfs/home/ledneva/focus/utils/valid_focus.json\", \"r\") as read_file:\n",
    "    valid_data = json.load(read_file)\n",
    "\n",
    "train_dataset = []\n",
    "for obj in train_data['data']:\n",
    "    len_dialog = len(obj['utterance'][-1]['dialogue' + str(len(obj['utterance']))])\n",
    "    train_dataset.append({\"utterance\" : obj['utterance'][-1]['dialogue' + str(len(obj['utterance']))],\n",
    "                               \"speaker\" :  [i % 2 for i in range(len_dialog)]})                                                     \n",
    "\n",
    "valid_dataset = []\n",
    "valid_speaker = []\n",
    "for obj in valid_data['data']:\n",
    "    len_dialog = len(obj['utterance'][-1]['dialogue' + str(len(obj['utterance']))])\n",
    "    valid_dataset.append({\"utterance\" : obj['utterance'][-1]['dialogue' + str(len(obj['utterance']))],\n",
    "                   \"speaker\" :  [i % 2 for i in range(len_dialog)]})        \n",
    "\n",
    "test_dataset = train_dataset[-len(valid_dataset) : ]\n",
    "train_dataset = train_dataset[ : -len(valid_dataset)]"
   ]
  },
  {
   "cell_type": "code",
   "execution_count": 4,
   "id": "6d146baf",
   "metadata": {},
   "outputs": [
    {
     "data": {
      "text/plain": [
       "(11484, 1000, 1000)"
      ]
     },
     "execution_count": 4,
     "metadata": {},
     "output_type": "execute_result"
    }
   ],
   "source": [
    "len(train_dataset), len(valid_dataset), len(test_dataset)"
   ]
  },
  {
   "cell_type": "code",
   "execution_count": null,
   "id": "bbf9dbd3",
   "metadata": {},
   "outputs": [],
   "source": []
  }
 ],
 "metadata": {
  "kernelspec": {
   "display_name": "Python 3 (ipykernel)",
   "language": "python",
   "name": "python3"
  },
  "language_info": {
   "codemirror_mode": {
    "name": "ipython",
    "version": 3
   },
   "file_extension": ".py",
   "mimetype": "text/x-python",
   "name": "python",
   "nbconvert_exporter": "python",
   "pygments_lexer": "ipython3",
   "version": "3.9.12"
  }
 },
 "nbformat": 4,
 "nbformat_minor": 5
}
