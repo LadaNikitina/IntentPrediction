{
 "cells": [
  {
   "cell_type": "code",
   "execution_count": 1,
   "id": "fe090b5f",
   "metadata": {},
   "outputs": [
    {
     "name": "stdout",
     "output_type": "stream",
     "text": [
      "3\n"
     ]
    }
   ],
   "source": [
    "import torch\n",
    "import os\n",
    "os.environ[\"CUDA_DEVICE_ORDER\"]=\"PCI_BUS_ID\"\n",
    "os.environ[\"CUDA_VISIBLE_DEVICES\"]=\"1,2,3\"\n",
    "print(torch.cuda.device_count())"
   ]
  },
  {
   "cell_type": "code",
   "execution_count": 2,
   "id": "7a501100",
   "metadata": {},
   "outputs": [
    {
     "name": "stderr",
     "output_type": "stream",
     "text": [
      "No config specified, defaulting to: personachat_truecased/full\n",
      "Found cached dataset personachat_truecased (/home/***/.cache/huggingface/datasets/bavard___personachat_truecased/full/1.0.0/73ee8f1a0d9e42255af5a8301877a2f3ac638e55b1cd9cbccca5ab7e23d2b638)\n"
     ]
    },
    {
     "data": {
      "application/vnd.jupyter.widget-view+json": {
       "model_id": "b6c2bb12c4fa4044aa8039b716d104d8",
       "version_major": 2,
       "version_minor": 0
      },
      "text/plain": [
       "  0%|          | 0/2 [00:00<?, ?it/s]"
      ]
     },
     "metadata": {},
     "output_type": "display_data"
    }
   ],
   "source": [
    "from datasets import load_dataset\n",
    "import itertools\n",
    "\n",
    "dataset = load_dataset(\"bavard/personachat_truecased\")\n",
    "        \n",
    "# train data\n",
    "\n",
    "train_data = dataset['train'] \n",
    "train_history = train_data['history']\n",
    "train_conv_id = train_data['conv_id']\n",
    "train_dataset = [train_history[i] for i, conv_id in enumerate(train_conv_id) \\\n",
    "                 if i + 1 != len(train_conv_id) and conv_id != train_conv_id[i + 1]] \n",
    "\n",
    "# test data\n",
    "test_data = dataset['validation'] \n",
    "test_history = test_data['history']\n",
    "test_conv_id = test_data['conv_id']\n",
    "test_dataset = [test_history[i] for i, conv_id in enumerate(test_conv_id) \\\n",
    "                 if i + 1 != len(test_conv_id) and conv_id != test_conv_id[i + 1]] \n",
    "\n",
    "\n",
    "# validation data\n",
    "validation_dataset = train_dataset[-len(test_dataset) : ]\n",
    "train_dataset = train_dataset[ : -len(test_dataset)]\n",
    "\n",
    "train_df = list(itertools.chain.from_iterable(train_dataset))\n",
    "test_df = list(itertools.chain.from_iterable(test_dataset))\n",
    "validation_df = list(itertools.chain.from_iterable(validation_dataset))\n",
    "\n",
    "df = train_df + validation_df + test_df"
   ]
  },
  {
   "cell_type": "code",
   "execution_count": 3,
   "id": "d5fd81ad",
   "metadata": {},
   "outputs": [],
   "source": [
    "from sentence_transformers import SentenceTransformer\n",
    "import pandas as pd\n",
    "import numpy as np\n",
    "def sbert_encoder(df):\n",
    "    model = SentenceTransformer('sentence-transformers/all-distilroberta-v1')\n",
    "    model = model.to('cuda')\n",
    "    \n",
    "    def get_embedding(sentence):\n",
    "        return model.encode(sentence)\n",
    "\n",
    "    embeddings = list(map(get_embedding, df))\n",
    "    embeddings = np.array(embeddings)\n",
    "    np.savetxt(f\"distil_roberta_embeddings.txt\", embeddings)\n",
    "    return embeddings"
   ]
  },
  {
   "cell_type": "code",
   "execution_count": 4,
   "id": "7031bbf9",
   "metadata": {},
   "outputs": [],
   "source": [
    "embs = sbert_encoder(df)"
   ]
  },
  {
   "cell_type": "code",
   "execution_count": 5,
   "id": "969efe04",
   "metadata": {},
   "outputs": [],
   "source": [
    "embs = np.loadtxt(f\"distil_roberta_embeddings.txt\")"
   ]
  },
  {
   "cell_type": "code",
   "execution_count": 6,
   "id": "3f5a6859",
   "metadata": {},
   "outputs": [
    {
     "data": {
      "text/plain": [
       "(259572, 768)"
      ]
     },
     "execution_count": 6,
     "metadata": {},
     "output_type": "execute_result"
    }
   ],
   "source": [
    "embs.shape"
   ]
  },
  {
   "cell_type": "code",
   "execution_count": 7,
   "id": "d51c8280",
   "metadata": {},
   "outputs": [
    {
     "data": {
      "text/plain": [
       "array([[-0.0215999 ,  0.01660189,  0.01502401, ..., -0.00828646,\n",
       "        -0.00148234,  0.0891    ],\n",
       "       [ 0.01174353, -0.01628386,  0.02573318, ...,  0.05404224,\n",
       "         0.02910072, -0.00541264],\n",
       "       [ 0.0440173 ,  0.02031309,  0.00112783, ...,  0.10994507,\n",
       "         0.02916543,  0.00200748],\n",
       "       ...,\n",
       "       [-0.02050706, -0.04231565, -0.02797482, ..., -0.0134701 ,\n",
       "         0.06195116, -0.05223875],\n",
       "       [ 0.00287352,  0.06097682, -0.03203836, ...,  0.03529529,\n",
       "         0.04074401, -0.03268725],\n",
       "       [ 0.00415624,  0.00401338, -0.06021528, ..., -0.00561223,\n",
       "         0.07072005, -0.02475802]])"
      ]
     },
     "execution_count": 7,
     "metadata": {},
     "output_type": "execute_result"
    }
   ],
   "source": [
    "embs"
   ]
  },
  {
   "cell_type": "code",
   "execution_count": null,
   "id": "693e23d1",
   "metadata": {},
   "outputs": [],
   "source": []
  }
 ],
 "metadata": {
  "kernelspec": {
   "display_name": "Python 3 (ipykernel)",
   "language": "python",
   "name": "python3"
  },
  "language_info": {
   "codemirror_mode": {
    "name": "ipython",
    "version": 3
   },
   "file_extension": ".py",
   "mimetype": "text/x-python",
   "name": "python",
   "nbconvert_exporter": "python",
   "pygments_lexer": "ipython3",
   "version": "3.9.12"
  }
 },
 "nbformat": 4,
 "nbformat_minor": 5
}
