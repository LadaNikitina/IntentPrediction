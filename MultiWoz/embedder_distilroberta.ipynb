{
 "cells": [
  {
   "cell_type": "code",
   "execution_count": 1,
   "id": "b0f888a0",
   "metadata": {},
   "outputs": [],
   "source": [
    "from sentence_transformers import SentenceTransformer\n",
    "from datasets import load_dataset\n",
    "\n",
    "import numpy as np\n",
    "import pandas as pd\n",
    "import torch\n",
    "import os"
   ]
  },
  {
   "cell_type": "code",
   "execution_count": 2,
   "id": "0ed7d482",
   "metadata": {},
   "outputs": [
    {
     "name": "stdout",
     "output_type": "stream",
     "text": [
      "2\n"
     ]
    }
   ],
   "source": [
    "os.environ[\"CUDA_DEVICE_ORDER\"]=\"PCI_BUS_ID\"\n",
    "os.environ[\"CUDA_VISIBLE_DEVICES\"]=\"2,3\"\n",
    "print(torch.cuda.device_count())"
   ]
  },
  {
   "cell_type": "code",
   "execution_count": 3,
   "id": "694ed4ae",
   "metadata": {},
   "outputs": [],
   "source": [
    "def get_pd_utterances_speaker(data):\n",
    "    '''\n",
    "        parsing data\n",
    "    '''\n",
    "    utterances = []\n",
    "\n",
    "    for obj in data:\n",
    "        utterances += obj['utterance']\n",
    "\n",
    "    speakers = []\n",
    "\n",
    "    for obj in data:\n",
    "        speakers += obj['speaker']   \n",
    "        \n",
    "    intents = []\n",
    "\n",
    "    for obj in data:\n",
    "        for x in obj['dialogue_acts']:\n",
    "            intents.append(x['dialog_act']['act_type'])    \n",
    "    \n",
    "    df = pd.DataFrame()\n",
    "    \n",
    "    df['utterance'] = utterances\n",
    "    df['speaker'] = speakers\n",
    "    df['intent'] = intents\n",
    "    \n",
    "    return df"
   ]
  },
  {
   "cell_type": "code",
   "execution_count": 4,
   "id": "d7a04656",
   "metadata": {},
   "outputs": [
    {
     "name": "stderr",
     "output_type": "stream",
     "text": [
      "No config specified, defaulting to: multi_woz_v22/v2.2_active_only\n",
      "Found cached dataset multi_woz_v22 (/home/ledneva/.cache/huggingface/datasets/multi_woz_v22/v2.2_active_only/2.2.0/6719c8b21478299411a0c6fdb7137c3ebab2e6425129af831687fb7851c69eb5)\n"
     ]
    },
    {
     "data": {
      "application/vnd.jupyter.widget-view+json": {
       "model_id": "e8e00a6910c24ba39f6aa2621d5b573f",
       "version_major": 2,
       "version_minor": 0
      },
      "text/plain": [
       "  0%|          | 0/3 [00:00<?, ?it/s]"
      ]
     },
     "metadata": {},
     "output_type": "display_data"
    }
   ],
   "source": [
    "dataset = load_dataset(\"multi_woz_v22\")\n",
    "        \n",
    "# train data\n",
    "train_dataset = dataset['train']\n",
    "train_dataset = train_dataset['turns']\n",
    "\n",
    "# validation data\n",
    "validation_dataset = dataset['validation']\n",
    "validation_dataset = validation_dataset['turns']\n",
    "\n",
    "# test data\n",
    "test_dataset = dataset['test']\n",
    "test_dataset = test_dataset['turns']\n",
    "\n",
    "# get uttrances from data\n",
    "train_df = get_pd_utterances_speaker(train_dataset)\n",
    "test_df = get_pd_utterances_speaker(test_dataset)\n",
    "validation_df = get_pd_utterances_speaker(validation_dataset)"
   ]
  },
  {
   "cell_type": "code",
   "execution_count": 5,
   "id": "1ea29484",
   "metadata": {},
   "outputs": [],
   "source": [
    "df = pd.concat([train_df, test_df, validation_df], ignore_index=True)"
   ]
  },
  {
   "cell_type": "code",
   "execution_count": 6,
   "id": "010bf021",
   "metadata": {},
   "outputs": [
    {
     "data": {
      "application/vnd.jupyter.widget-view+json": {
       "model_id": "8d05a55cd01f430cab683b6f5469055b",
       "version_major": 2,
       "version_minor": 0
      },
      "text/plain": [
       "Downloading:   0%|          | 0.00/737 [00:00<?, ?B/s]"
      ]
     },
     "metadata": {},
     "output_type": "display_data"
    },
    {
     "data": {
      "application/vnd.jupyter.widget-view+json": {
       "model_id": "df14326e1b58433c8d28457d4ab4448c",
       "version_major": 2,
       "version_minor": 0
      },
      "text/plain": [
       "Downloading:   0%|          | 0.00/190 [00:00<?, ?B/s]"
      ]
     },
     "metadata": {},
     "output_type": "display_data"
    },
    {
     "data": {
      "application/vnd.jupyter.widget-view+json": {
       "model_id": "345c7721650a4f448a5f879aceab8d91",
       "version_major": 2,
       "version_minor": 0
      },
      "text/plain": [
       "Downloading:   0%|          | 0.00/10.3k [00:00<?, ?B/s]"
      ]
     },
     "metadata": {},
     "output_type": "display_data"
    },
    {
     "data": {
      "application/vnd.jupyter.widget-view+json": {
       "model_id": "05b306ff74384a61972357f860e33740",
       "version_major": 2,
       "version_minor": 0
      },
      "text/plain": [
       "Downloading:   0%|          | 0.00/653 [00:00<?, ?B/s]"
      ]
     },
     "metadata": {},
     "output_type": "display_data"
    },
    {
     "data": {
      "application/vnd.jupyter.widget-view+json": {
       "model_id": "345c0c26293d4ed0b67b824955bc8135",
       "version_major": 2,
       "version_minor": 0
      },
      "text/plain": [
       "Downloading:   0%|          | 0.00/116 [00:00<?, ?B/s]"
      ]
     },
     "metadata": {},
     "output_type": "display_data"
    },
    {
     "data": {
      "application/vnd.jupyter.widget-view+json": {
       "model_id": "be6e0dec40954514ad3f187088498838",
       "version_major": 2,
       "version_minor": 0
      },
      "text/plain": [
       "Downloading:   0%|          | 0.00/15.7k [00:00<?, ?B/s]"
      ]
     },
     "metadata": {},
     "output_type": "display_data"
    },
    {
     "data": {
      "application/vnd.jupyter.widget-view+json": {
       "model_id": "6f7adbd27db8431a8b51e3720fcbc9a0",
       "version_major": 2,
       "version_minor": 0
      },
      "text/plain": [
       "Downloading:   0%|          | 0.00/456k [00:00<?, ?B/s]"
      ]
     },
     "metadata": {},
     "output_type": "display_data"
    },
    {
     "data": {
      "application/vnd.jupyter.widget-view+json": {
       "model_id": "39ef0a9559484b7893aa4ee827a07e0f",
       "version_major": 2,
       "version_minor": 0
      },
      "text/plain": [
       "Downloading:   0%|          | 0.00/329M [00:00<?, ?B/s]"
      ]
     },
     "metadata": {},
     "output_type": "display_data"
    },
    {
     "data": {
      "application/vnd.jupyter.widget-view+json": {
       "model_id": "5cdc38a8045c4d7099cb75165eb6bb08",
       "version_major": 2,
       "version_minor": 0
      },
      "text/plain": [
       "Downloading:   0%|          | 0.00/53.0 [00:00<?, ?B/s]"
      ]
     },
     "metadata": {},
     "output_type": "display_data"
    },
    {
     "data": {
      "application/vnd.jupyter.widget-view+json": {
       "model_id": "e6a517d0e0a34c858ac791ec1de99bfa",
       "version_major": 2,
       "version_minor": 0
      },
      "text/plain": [
       "Downloading:   0%|          | 0.00/239 [00:00<?, ?B/s]"
      ]
     },
     "metadata": {},
     "output_type": "display_data"
    },
    {
     "data": {
      "application/vnd.jupyter.widget-view+json": {
       "model_id": "0398bf28fa4b4590aebcd9cf16b044f0",
       "version_major": 2,
       "version_minor": 0
      },
      "text/plain": [
       "Downloading:   0%|          | 0.00/1.36M [00:00<?, ?B/s]"
      ]
     },
     "metadata": {},
     "output_type": "display_data"
    },
    {
     "data": {
      "application/vnd.jupyter.widget-view+json": {
       "model_id": "25bc4a2ce6254662ba8ac9501253cb58",
       "version_major": 2,
       "version_minor": 0
      },
      "text/plain": [
       "Downloading:   0%|          | 0.00/333 [00:00<?, ?B/s]"
      ]
     },
     "metadata": {},
     "output_type": "display_data"
    },
    {
     "data": {
      "application/vnd.jupyter.widget-view+json": {
       "model_id": "f2c61c4174234022bc08ea494c4dc23a",
       "version_major": 2,
       "version_minor": 0
      },
      "text/plain": [
       "Downloading:   0%|          | 0.00/13.1k [00:00<?, ?B/s]"
      ]
     },
     "metadata": {},
     "output_type": "display_data"
    },
    {
     "data": {
      "application/vnd.jupyter.widget-view+json": {
       "model_id": "1040d2617da644e2b0c3df0432ae998b",
       "version_major": 2,
       "version_minor": 0
      },
      "text/plain": [
       "Downloading:   0%|          | 0.00/798k [00:00<?, ?B/s]"
      ]
     },
     "metadata": {},
     "output_type": "display_data"
    },
    {
     "data": {
      "application/vnd.jupyter.widget-view+json": {
       "model_id": "76e997e3b342450e9ebfe24a22593d5b",
       "version_major": 2,
       "version_minor": 0
      },
      "text/plain": [
       "Downloading:   0%|          | 0.00/349 [00:00<?, ?B/s]"
      ]
     },
     "metadata": {},
     "output_type": "display_data"
    }
   ],
   "source": [
    "model = SentenceTransformer('sentence-transformers/all-distilroberta-v1')\n",
    "model = model.to('cuda')"
   ]
  },
  {
   "cell_type": "code",
   "execution_count": 7,
   "id": "bbc3f0c3",
   "metadata": {},
   "outputs": [],
   "source": [
    "def get_embedding(sentence):\n",
    "    return model.encode(sentence)\n",
    "\n",
    "embeddings = df['utterance'].apply(get_embedding)\n",
    "# 15 минут"
   ]
  },
  {
   "cell_type": "code",
   "execution_count": 8,
   "id": "82c56746",
   "metadata": {},
   "outputs": [],
   "source": [
    "embeddings = pd.DataFrame(np.row_stack(embeddings))"
   ]
  },
  {
   "cell_type": "code",
   "execution_count": 9,
   "id": "e508ceb8",
   "metadata": {},
   "outputs": [
    {
     "data": {
      "text/html": [
       "<div>\n",
       "<style scoped>\n",
       "    .dataframe tbody tr th:only-of-type {\n",
       "        vertical-align: middle;\n",
       "    }\n",
       "\n",
       "    .dataframe tbody tr th {\n",
       "        vertical-align: top;\n",
       "    }\n",
       "\n",
       "    .dataframe thead th {\n",
       "        text-align: right;\n",
       "    }\n",
       "</style>\n",
       "<table border=\"1\" class=\"dataframe\">\n",
       "  <thead>\n",
       "    <tr style=\"text-align: right;\">\n",
       "      <th></th>\n",
       "      <th>0</th>\n",
       "      <th>1</th>\n",
       "      <th>2</th>\n",
       "      <th>3</th>\n",
       "      <th>4</th>\n",
       "      <th>5</th>\n",
       "      <th>6</th>\n",
       "      <th>7</th>\n",
       "      <th>8</th>\n",
       "      <th>9</th>\n",
       "      <th>...</th>\n",
       "      <th>758</th>\n",
       "      <th>759</th>\n",
       "      <th>760</th>\n",
       "      <th>761</th>\n",
       "      <th>762</th>\n",
       "      <th>763</th>\n",
       "      <th>764</th>\n",
       "      <th>765</th>\n",
       "      <th>766</th>\n",
       "      <th>767</th>\n",
       "    </tr>\n",
       "  </thead>\n",
       "  <tbody>\n",
       "    <tr>\n",
       "      <th>0</th>\n",
       "      <td>-0.007226</td>\n",
       "      <td>-0.033957</td>\n",
       "      <td>-0.009085</td>\n",
       "      <td>-0.001372</td>\n",
       "      <td>-0.022856</td>\n",
       "      <td>-0.048311</td>\n",
       "      <td>0.041502</td>\n",
       "      <td>0.054538</td>\n",
       "      <td>0.071536</td>\n",
       "      <td>0.008875</td>\n",
       "      <td>...</td>\n",
       "      <td>-0.003501</td>\n",
       "      <td>0.022292</td>\n",
       "      <td>-0.002492</td>\n",
       "      <td>0.009908</td>\n",
       "      <td>-0.043196</td>\n",
       "      <td>-0.002803</td>\n",
       "      <td>0.040020</td>\n",
       "      <td>0.020825</td>\n",
       "      <td>-0.011816</td>\n",
       "      <td>-0.034958</td>\n",
       "    </tr>\n",
       "    <tr>\n",
       "      <th>1</th>\n",
       "      <td>0.018751</td>\n",
       "      <td>-0.011421</td>\n",
       "      <td>-0.017195</td>\n",
       "      <td>0.030763</td>\n",
       "      <td>0.011367</td>\n",
       "      <td>-0.008825</td>\n",
       "      <td>0.035039</td>\n",
       "      <td>0.003447</td>\n",
       "      <td>0.065989</td>\n",
       "      <td>-0.047363</td>\n",
       "      <td>...</td>\n",
       "      <td>-0.061483</td>\n",
       "      <td>-0.015553</td>\n",
       "      <td>0.002013</td>\n",
       "      <td>0.003989</td>\n",
       "      <td>0.041973</td>\n",
       "      <td>0.013563</td>\n",
       "      <td>0.017065</td>\n",
       "      <td>0.086267</td>\n",
       "      <td>-0.011211</td>\n",
       "      <td>0.018178</td>\n",
       "    </tr>\n",
       "    <tr>\n",
       "      <th>2</th>\n",
       "      <td>-0.009338</td>\n",
       "      <td>-0.012030</td>\n",
       "      <td>0.003013</td>\n",
       "      <td>0.006073</td>\n",
       "      <td>-0.019766</td>\n",
       "      <td>-0.040937</td>\n",
       "      <td>0.017565</td>\n",
       "      <td>-0.019893</td>\n",
       "      <td>0.066497</td>\n",
       "      <td>0.015676</td>\n",
       "      <td>...</td>\n",
       "      <td>-0.034179</td>\n",
       "      <td>0.010144</td>\n",
       "      <td>-0.027549</td>\n",
       "      <td>0.000214</td>\n",
       "      <td>0.045478</td>\n",
       "      <td>-0.022040</td>\n",
       "      <td>0.017160</td>\n",
       "      <td>0.082377</td>\n",
       "      <td>0.029150</td>\n",
       "      <td>-0.003910</td>\n",
       "    </tr>\n",
       "    <tr>\n",
       "      <th>3</th>\n",
       "      <td>0.003873</td>\n",
       "      <td>0.046686</td>\n",
       "      <td>-0.032505</td>\n",
       "      <td>0.020259</td>\n",
       "      <td>0.003932</td>\n",
       "      <td>-0.047845</td>\n",
       "      <td>0.034129</td>\n",
       "      <td>0.049410</td>\n",
       "      <td>-0.006170</td>\n",
       "      <td>0.003214</td>\n",
       "      <td>...</td>\n",
       "      <td>-0.013998</td>\n",
       "      <td>0.009503</td>\n",
       "      <td>-0.008501</td>\n",
       "      <td>0.007559</td>\n",
       "      <td>0.019120</td>\n",
       "      <td>0.027074</td>\n",
       "      <td>0.051466</td>\n",
       "      <td>0.011480</td>\n",
       "      <td>-0.001995</td>\n",
       "      <td>0.020767</td>\n",
       "    </tr>\n",
       "    <tr>\n",
       "      <th>4</th>\n",
       "      <td>-0.029017</td>\n",
       "      <td>0.014379</td>\n",
       "      <td>-0.002468</td>\n",
       "      <td>-0.030916</td>\n",
       "      <td>-0.026700</td>\n",
       "      <td>-0.065000</td>\n",
       "      <td>0.045521</td>\n",
       "      <td>-0.039768</td>\n",
       "      <td>0.094795</td>\n",
       "      <td>0.024008</td>\n",
       "      <td>...</td>\n",
       "      <td>-0.026093</td>\n",
       "      <td>0.033713</td>\n",
       "      <td>-0.020920</td>\n",
       "      <td>0.019808</td>\n",
       "      <td>0.023427</td>\n",
       "      <td>-0.001191</td>\n",
       "      <td>-0.018421</td>\n",
       "      <td>0.056101</td>\n",
       "      <td>0.019062</td>\n",
       "      <td>-0.012382</td>\n",
       "    </tr>\n",
       "    <tr>\n",
       "      <th>...</th>\n",
       "      <td>...</td>\n",
       "      <td>...</td>\n",
       "      <td>...</td>\n",
       "      <td>...</td>\n",
       "      <td>...</td>\n",
       "      <td>...</td>\n",
       "      <td>...</td>\n",
       "      <td>...</td>\n",
       "      <td>...</td>\n",
       "      <td>...</td>\n",
       "      <td>...</td>\n",
       "      <td>...</td>\n",
       "      <td>...</td>\n",
       "      <td>...</td>\n",
       "      <td>...</td>\n",
       "      <td>...</td>\n",
       "      <td>...</td>\n",
       "      <td>...</td>\n",
       "      <td>...</td>\n",
       "      <td>...</td>\n",
       "      <td>...</td>\n",
       "    </tr>\n",
       "    <tr>\n",
       "      <th>143039</th>\n",
       "      <td>0.012976</td>\n",
       "      <td>-0.058718</td>\n",
       "      <td>0.016624</td>\n",
       "      <td>0.040777</td>\n",
       "      <td>-0.059632</td>\n",
       "      <td>-0.004792</td>\n",
       "      <td>-0.020179</td>\n",
       "      <td>0.058529</td>\n",
       "      <td>0.028063</td>\n",
       "      <td>-0.012712</td>\n",
       "      <td>...</td>\n",
       "      <td>0.047848</td>\n",
       "      <td>-0.026998</td>\n",
       "      <td>0.021815</td>\n",
       "      <td>0.008680</td>\n",
       "      <td>0.017850</td>\n",
       "      <td>0.034079</td>\n",
       "      <td>-0.094322</td>\n",
       "      <td>-0.028001</td>\n",
       "      <td>-0.063287</td>\n",
       "      <td>-0.005191</td>\n",
       "    </tr>\n",
       "    <tr>\n",
       "      <th>143040</th>\n",
       "      <td>-0.022427</td>\n",
       "      <td>-0.006912</td>\n",
       "      <td>0.032676</td>\n",
       "      <td>-0.037562</td>\n",
       "      <td>-0.042634</td>\n",
       "      <td>-0.024707</td>\n",
       "      <td>0.030946</td>\n",
       "      <td>-0.017636</td>\n",
       "      <td>0.010411</td>\n",
       "      <td>0.058166</td>\n",
       "      <td>...</td>\n",
       "      <td>-0.039170</td>\n",
       "      <td>0.032023</td>\n",
       "      <td>-0.015683</td>\n",
       "      <td>-0.032754</td>\n",
       "      <td>0.008142</td>\n",
       "      <td>0.030408</td>\n",
       "      <td>-0.075982</td>\n",
       "      <td>-0.012069</td>\n",
       "      <td>-0.016874</td>\n",
       "      <td>-0.000491</td>\n",
       "    </tr>\n",
       "    <tr>\n",
       "      <th>143041</th>\n",
       "      <td>-0.021554</td>\n",
       "      <td>-0.042587</td>\n",
       "      <td>0.029049</td>\n",
       "      <td>-0.054671</td>\n",
       "      <td>-0.031003</td>\n",
       "      <td>-0.011591</td>\n",
       "      <td>0.010116</td>\n",
       "      <td>-0.014084</td>\n",
       "      <td>0.048402</td>\n",
       "      <td>-0.001506</td>\n",
       "      <td>...</td>\n",
       "      <td>-0.051333</td>\n",
       "      <td>0.020171</td>\n",
       "      <td>-0.032218</td>\n",
       "      <td>-0.022407</td>\n",
       "      <td>-0.031142</td>\n",
       "      <td>-0.009772</td>\n",
       "      <td>-0.061097</td>\n",
       "      <td>-0.002960</td>\n",
       "      <td>-0.017953</td>\n",
       "      <td>0.019558</td>\n",
       "    </tr>\n",
       "    <tr>\n",
       "      <th>143042</th>\n",
       "      <td>0.018267</td>\n",
       "      <td>-0.000391</td>\n",
       "      <td>0.008706</td>\n",
       "      <td>-0.016725</td>\n",
       "      <td>0.019559</td>\n",
       "      <td>-0.021098</td>\n",
       "      <td>-0.011251</td>\n",
       "      <td>0.045212</td>\n",
       "      <td>0.051478</td>\n",
       "      <td>-0.004916</td>\n",
       "      <td>...</td>\n",
       "      <td>0.005725</td>\n",
       "      <td>0.043488</td>\n",
       "      <td>-0.002871</td>\n",
       "      <td>0.041669</td>\n",
       "      <td>0.043827</td>\n",
       "      <td>-0.044472</td>\n",
       "      <td>0.082341</td>\n",
       "      <td>0.030984</td>\n",
       "      <td>0.005650</td>\n",
       "      <td>0.002012</td>\n",
       "    </tr>\n",
       "    <tr>\n",
       "      <th>143043</th>\n",
       "      <td>-0.013353</td>\n",
       "      <td>0.042773</td>\n",
       "      <td>-0.038111</td>\n",
       "      <td>0.034687</td>\n",
       "      <td>0.008458</td>\n",
       "      <td>0.006819</td>\n",
       "      <td>0.011596</td>\n",
       "      <td>0.008960</td>\n",
       "      <td>0.028893</td>\n",
       "      <td>-0.025655</td>\n",
       "      <td>...</td>\n",
       "      <td>0.005685</td>\n",
       "      <td>-0.006581</td>\n",
       "      <td>-0.035720</td>\n",
       "      <td>-0.012184</td>\n",
       "      <td>0.007853</td>\n",
       "      <td>-0.058079</td>\n",
       "      <td>0.027555</td>\n",
       "      <td>-0.011376</td>\n",
       "      <td>-0.095846</td>\n",
       "      <td>0.040515</td>\n",
       "    </tr>\n",
       "  </tbody>\n",
       "</table>\n",
       "<p>143044 rows × 768 columns</p>\n",
       "</div>"
      ],
      "text/plain": [
       "             0         1         2         3         4         5         6    \\\n",
       "0      -0.007226 -0.033957 -0.009085 -0.001372 -0.022856 -0.048311  0.041502   \n",
       "1       0.018751 -0.011421 -0.017195  0.030763  0.011367 -0.008825  0.035039   \n",
       "2      -0.009338 -0.012030  0.003013  0.006073 -0.019766 -0.040937  0.017565   \n",
       "3       0.003873  0.046686 -0.032505  0.020259  0.003932 -0.047845  0.034129   \n",
       "4      -0.029017  0.014379 -0.002468 -0.030916 -0.026700 -0.065000  0.045521   \n",
       "...          ...       ...       ...       ...       ...       ...       ...   \n",
       "143039  0.012976 -0.058718  0.016624  0.040777 -0.059632 -0.004792 -0.020179   \n",
       "143040 -0.022427 -0.006912  0.032676 -0.037562 -0.042634 -0.024707  0.030946   \n",
       "143041 -0.021554 -0.042587  0.029049 -0.054671 -0.031003 -0.011591  0.010116   \n",
       "143042  0.018267 -0.000391  0.008706 -0.016725  0.019559 -0.021098 -0.011251   \n",
       "143043 -0.013353  0.042773 -0.038111  0.034687  0.008458  0.006819  0.011596   \n",
       "\n",
       "             7         8         9    ...       758       759       760  \\\n",
       "0       0.054538  0.071536  0.008875  ... -0.003501  0.022292 -0.002492   \n",
       "1       0.003447  0.065989 -0.047363  ... -0.061483 -0.015553  0.002013   \n",
       "2      -0.019893  0.066497  0.015676  ... -0.034179  0.010144 -0.027549   \n",
       "3       0.049410 -0.006170  0.003214  ... -0.013998  0.009503 -0.008501   \n",
       "4      -0.039768  0.094795  0.024008  ... -0.026093  0.033713 -0.020920   \n",
       "...          ...       ...       ...  ...       ...       ...       ...   \n",
       "143039  0.058529  0.028063 -0.012712  ...  0.047848 -0.026998  0.021815   \n",
       "143040 -0.017636  0.010411  0.058166  ... -0.039170  0.032023 -0.015683   \n",
       "143041 -0.014084  0.048402 -0.001506  ... -0.051333  0.020171 -0.032218   \n",
       "143042  0.045212  0.051478 -0.004916  ...  0.005725  0.043488 -0.002871   \n",
       "143043  0.008960  0.028893 -0.025655  ...  0.005685 -0.006581 -0.035720   \n",
       "\n",
       "             761       762       763       764       765       766       767  \n",
       "0       0.009908 -0.043196 -0.002803  0.040020  0.020825 -0.011816 -0.034958  \n",
       "1       0.003989  0.041973  0.013563  0.017065  0.086267 -0.011211  0.018178  \n",
       "2       0.000214  0.045478 -0.022040  0.017160  0.082377  0.029150 -0.003910  \n",
       "3       0.007559  0.019120  0.027074  0.051466  0.011480 -0.001995  0.020767  \n",
       "4       0.019808  0.023427 -0.001191 -0.018421  0.056101  0.019062 -0.012382  \n",
       "...          ...       ...       ...       ...       ...       ...       ...  \n",
       "143039  0.008680  0.017850  0.034079 -0.094322 -0.028001 -0.063287 -0.005191  \n",
       "143040 -0.032754  0.008142  0.030408 -0.075982 -0.012069 -0.016874 -0.000491  \n",
       "143041 -0.022407 -0.031142 -0.009772 -0.061097 -0.002960 -0.017953  0.019558  \n",
       "143042  0.041669  0.043827 -0.044472  0.082341  0.030984  0.005650  0.002012  \n",
       "143043 -0.012184  0.007853 -0.058079  0.027555 -0.011376 -0.095846  0.040515  \n",
       "\n",
       "[143044 rows x 768 columns]"
      ]
     },
     "execution_count": 9,
     "metadata": {},
     "output_type": "execute_result"
    }
   ],
   "source": [
    "embeddings"
   ]
  },
  {
   "cell_type": "code",
   "execution_count": 10,
   "id": "67a57843",
   "metadata": {},
   "outputs": [],
   "source": [
    "embeddings.to_csv(\"distilroberta_embeddings.csv\")"
   ]
  }
 ],
 "metadata": {
  "kernelspec": {
   "display_name": "Python 3 (ipykernel)",
   "language": "python",
   "name": "python3"
  },
  "language_info": {
   "codemirror_mode": {
    "name": "ipython",
    "version": 3
   },
   "file_extension": ".py",
   "mimetype": "text/x-python",
   "name": "python",
   "nbconvert_exporter": "python",
   "pygments_lexer": "ipython3",
   "version": "3.9.12"
  }
 },
 "nbformat": 4,
 "nbformat_minor": 5
}
